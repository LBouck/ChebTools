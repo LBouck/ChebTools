{
 "cells": [
  {
   "cell_type": "code",
   "execution_count": 1,
   "metadata": {
    "collapsed": true
   },
   "outputs": [],
   "source": [
    "import numpy as np"
   ]
  },
  {
   "cell_type": "code",
   "execution_count": 17,
   "metadata": {
    "collapsed": true
   },
   "outputs": [],
   "source": [
    "def jac(dfdx,dfdy,dgdx,dgdy,vec):\n",
    "    ans = np.zeros((2,2))\n",
    "    ans[0,0] = dfdx(vec)\n",
    "    ans[0,1] = dfdy(vec)\n",
    "    ans[1,0] = dgdx(vec)\n",
    "    ans[1,1] = dgdy(vec)\n",
    "    return ans\n",
    "\n",
    "def newtons_method(f,g,dfdx,dfdy,dgdx,dgdy,vec0):\n",
    "    x = vec0\n",
    "    error = 1\n",
    "    tol = 1e-12\n",
    "    count = 0\n",
    "    while error>tol:\n",
    "        if count>10:\n",
    "            break\n",
    "        jacobian = jac(dfdx,dfdy,dgdx,dgdy,x)\n",
    "        print(np.linalg.cond(jacobian))\n",
    "        z = np.linalg.solve(jacobian,x)\n",
    "        x = x+z\n",
    "        print(x)\n",
    "        error = np.linalg.norm(z)\n",
    "        count += 1\n",
    "    return x\n"
   ]
  },
  {
   "cell_type": "code",
   "execution_count": 22,
   "metadata": {},
   "outputs": [
    {
     "name": "stdout",
     "output_type": "stream",
     "text": [
      "3.63271542036\n"
     ]
    }
   ],
   "source": [
    "def f(vec):\n",
    "    return np.cos(np.pi*(vec[0]-.1))*(vec[1]-2)\n",
    "def g(vec):\n",
    "    return (vec[1]-.9)*(vec[1]-.1)*(vec[0]-2)\n",
    "\n",
    "def dfdx(vec):\n",
    "    return -np.pi*np.sin(np.pi*(vec[0]-.1))*(vec[1]-2)\n",
    "\n",
    "def dfdy(vec):\n",
    "    return np.cos(np.pi*(vec[0]-.1))\n",
    "\n",
    "def dgdx(vec):\n",
    "    return (vec[1]-.9)*(vec[1]-.1)\n",
    "\n",
    "def dgdy(vec):\n",
    "    return (vec[0]-2)*((vec[1]-.1)+(vec[1]-.9))\n",
    "jacobian = jac(dfdx,dfdy,dgdx,dgdy,np.array([.6,.9]))\n",
    "print(np.linalg.norm(jacobian))"
   ]
  },
  {
   "cell_type": "code",
   "execution_count": 19,
   "metadata": {},
   "outputs": [
    {
     "name": "stdout",
     "output_type": "stream",
     "text": [
      "2.88009112282\n",
      "[ 0.78150557  0.14047895]\n",
      "5.70615033042\n",
      "[ 0.95870937  0.30703402]\n",
      "7.56154518185\n",
      "[ 1.77970147  1.32185252]\n",
      "10.3366775545\n",
      "[-1.81549408 -7.44620836]\n",
      "18.677304809\n",
      "[-2.06564061 -7.30918773]\n",
      "8.01336073136\n",
      "[-1.93776239 -7.54678594]\n",
      "28.3349247218\n",
      "[-1.53890394 -8.07239677]\n",
      "5.60300681961\n",
      "[-1.59154214 -8.14182791]\n",
      "6.19599724596\n",
      "[-1.65084534 -8.20179543]\n",
      "7.28232070479\n",
      "[-1.72250792 -8.24565721]\n",
      "9.81546045414\n",
      "[-1.82321143 -8.25424722]\n"
     ]
    },
    {
     "data": {
      "text/plain": [
       "array([-1.82321143, -8.25424722])"
      ]
     },
     "execution_count": 19,
     "metadata": {},
     "output_type": "execute_result"
    }
   ],
   "source": [
    "newtons_method(f,g,dfdx,dfdy,dgdx,dgdy,np.array([.607485,.922138]))"
   ]
  },
  {
   "cell_type": "code",
   "execution_count": null,
   "metadata": {
    "collapsed": true
   },
   "outputs": [],
   "source": []
  }
 ],
 "metadata": {
  "kernelspec": {
   "display_name": "Python 3",
   "language": "python",
   "name": "python3"
  },
  "language_info": {
   "codemirror_mode": {
    "name": "ipython",
    "version": 3
   },
   "file_extension": ".py",
   "mimetype": "text/x-python",
   "name": "python",
   "nbconvert_exporter": "python",
   "pygments_lexer": "ipython3",
   "version": "3.6.1"
  }
 },
 "nbformat": 4,
 "nbformat_minor": 2
}
