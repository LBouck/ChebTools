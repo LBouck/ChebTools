{
 "cells": [
  {
   "cell_type": "code",
   "execution_count": 1,
   "metadata": {
    "collapsed": true
   },
   "outputs": [],
   "source": [
    "import numpy as np\n",
    "import matplotlib.pyplot as plt\n",
    "%matplotlib inline"
   ]
  },
  {
   "cell_type": "code",
   "execution_count": 20,
   "metadata": {
    "collapsed": true
   },
   "outputs": [],
   "source": [
    "def eval_cheb(n,x):\n",
    "    if n==0:\n",
    "        return 1\n",
    "    elif n==1:\n",
    "        return x\n",
    "    else:\n",
    "        return 2*x*eval_cheb(n-1,x)-eval_cheb(n-2,x)\n",
    "def eval_cheb_outside1(n,delta):\n",
    "    return eval_cheb(n,1+delta)"
   ]
  },
  {
   "cell_type": "code",
   "execution_count": 39,
   "metadata": {},
   "outputs": [
    {
     "data": {
      "text/plain": [
       "2.024000000000001"
      ]
     },
     "execution_count": 39,
     "metadata": {},
     "output_type": "execute_result"
    }
   ],
   "source": [
    "eval_cheb_outside1(3,.1)"
   ]
  },
  {
   "cell_type": "code",
   "execution_count": 18,
   "metadata": {},
   "outputs": [
    {
     "data": {
      "text/plain": [
       "[<matplotlib.lines.Line2D at 0x7fa7b40b8748>]"
      ]
     },
     "execution_count": 18,
     "metadata": {},
     "output_type": "execute_result"
    },
    {
     "data": {
      "image/png": "[encoded data removed]",
      "text/plain": [
       "<matplotlib.figure.Figure at 0x7fa7e02d79b0>"
      ]
     },
     "metadata": {},
     "output_type": "display_data"
    }
   ],
   "source": [
    "delta = .01\n",
    "xvals = np.linspace(-1-delta,1+delta,100)\n",
    "fvals = np.zeros(100)\n",
    "for i in range(len(xvals)):\n",
    "    fvals[i] = eval_cheb(20,xvals[i])\n",
    "plt.plot(xvals,fvals)"
   ]
  },
  {
   "cell_type": "code",
   "execution_count": 36,
   "metadata": {
    "collapsed": true
   },
   "outputs": [],
   "source": [
    "def eval_cheb_outside2(n,delta):\n",
    "    return .5*(1+delta+np.sqrt(delta**2+2*delta))**n+.5*(1+delta-np.sqrt(delta**2+2*delta))**n"
   ]
  },
  {
   "cell_type": "code",
   "execution_count": 40,
   "metadata": {},
   "outputs": [
    {
     "data": {
      "text/plain": [
       "2.0240000000000009"
      ]
     },
     "execution_count": 40,
     "metadata": {},
     "output_type": "execute_result"
    }
   ],
   "source": [
    "eval_cheb_outside2(3,.1)"
   ]
  },
  {
   "cell_type": "code",
   "execution_count": 41,
   "metadata": {
    "collapsed": true
   },
   "outputs": [],
   "source": [
    "import scipy.linalg as la"
   ]
  },
  {
   "cell_type": "code",
   "execution_count": 58,
   "metadata": {
    "collapsed": true
   },
   "outputs": [],
   "source": [
    "def create_reg_matrix(n,delta):\n",
    "    mat = np.zeros((n+1,n+1))\n",
    "    mat[0,:] = .5*(1+delta+np.sqrt(delta**2+2*delta))**np.arange(n+1)+.5*(1+delta-np.sqrt(delta**2+2*delta))**np.arange(n+1)-1\n",
    "    return mat\n",
    "\n",
    "def create_cheb_matrix(n):\n",
    "    mat = np.zeros((n+1,n+1))\n",
    "    for j in range(n+1):\n",
    "        if j==0 or j==n:\n",
    "                pj = 2\n",
    "        else:\n",
    "            pj = 1\n",
    "        for k in range(n+1):\n",
    "            if k==0 or k==n:\n",
    "                pk = 2\n",
    "            else:\n",
    "                pk = 1\n",
    "            mat[j,k] = 2*np.cos(np.pi*(j+1)*(k+1)/n)/(n*pk*pj)\n",
    "    return mat\n",
    "\n",
    "def cheb_nodes(n):\n",
    "    return np.cos(np.pi*np.arange(n+1)/n)\n",
    "\n",
    "def cheb_interp(f,n):\n",
    "    xvals = cheb_nodes(n)\n",
    "    fvals = f(xvals)\n",
    "    A = create_cheb_matrix(n)\n",
    "    return np.dot(A,fvals)"
   ]
  },
  {
   "cell_type": "code",
   "execution_count": 68,
   "metadata": {},
   "outputs": [
    {
     "data": {
      "text/plain": [
       "array([[  4.08280984e+15,  -1.50000000e+00,  -4.08280984e+15],\n",
       "       [ -1.50000000e+00,   2.46519033e-32,  -5.00000000e-01],\n",
       "       [ -4.08280984e+15,  -5.00000000e-01,   4.08280984e+15]])"
      ]
     },
     "execution_count": 68,
     "metadata": {},
     "output_type": "execute_result"
    }
   ],
   "source": [
    "la.inv(create_cheb_matrix(2))"
   ]
  },
  {
   "cell_type": "code",
   "execution_count": null,
   "metadata": {
    "collapsed": true
   },
   "outputs": [],
   "source": []
  }
 ],
 "metadata": {
  "kernelspec": {
   "display_name": "Python 3",
   "language": "python",
   "name": "python3"
  },
  "language_info": {
   "codemirror_mode": {
    "name": "ipython",
    "version": 3
   },
   "file_extension": ".py",
   "mimetype": "text/x-python",
   "name": "python",
   "nbconvert_exporter": "python",
   "pygments_lexer": "ipython3",
   "version": "3.6.1"
  }
 },
 "nbformat": 4,
 "nbformat_minor": 2
}
